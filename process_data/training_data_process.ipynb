{
 "cells": [
  {
   "cell_type": "code",
   "execution_count": null,
   "id": "18da28cf-2051-4c98-a243-261784515a5f",
   "metadata": {},
   "outputs": [],
   "source": [
    "import os\n",
    "import pydicom\n",
    "from PIL import Image\n"
   ]
  },
  {
   "cell_type": "code",
   "execution_count": null,
   "id": "84225e82",
   "metadata": {},
   "outputs": [],
   "source": [
    "from tqdm import tqdm\n",
    "path=\"/disk8t/jialiangfan/trained_models/dataset/medical_data/\"\n",
    "for root, dirs, files in os.walk(path):\n",
    "    for file in tqdm(files):\n",
    "        if file.endswith('.DCM') or file.endswith('.dcm'):\n",
    "            dcm_path = os.path.join(root, file)\n",
    "            window1 = 'ss'\n",
    "            window2 = 'ss'\n",
    "            try:\n",
    "                imagxe_array = quchuang(dcm_path, window1, window2)\n",
    "                #image = Image.fromarray(image_array)\n",
    "                # print(os.path.relpath(root,file),'ww')\n",
    "                # print(root,'this is root')\n",
    "                # print(dirs,'this is folder_path')\n",
    "                # break\n",
    "                save_dir = os.path.join('/disk8t/jialiangfan/trained_models/dataset/medical_data/medical_images/', os.path.relpath(root, path))\n",
    "                os.makedirs(save_dir, exist_ok=True)\n",
    "                if file.endswith('.DCM'):\n",
    "                    save_path = os.path.join(save_dir, file.replace('.DCM', '.jpg'))\n",
    "                elif file.endswith('.dcm'):\n",
    "                    save_path = os.path.join(save_dir, file.replace('.dcm', '.jpg'))\n",
    "                cv2.imwrite(save_path, imagxe_array)\n",
    "                print(f\"Converted {dcm_path} to {save_path}\")\n",
    "            except (ValueError, RuntimeError) as e:\n",
    "                print(f\"Error converting {dcm_path}: {e}\")\n",
    "                continue"
   ]
  },
  {
   "cell_type": "code",
   "execution_count": null,
   "id": "676dd036",
   "metadata": {},
   "outputs": [],
   "source": []
  }
 ],
 "metadata": {
  "kernelspec": {
   "display_name": "medical",
   "language": "python",
   "name": "python3"
  },
  "language_info": {
   "codemirror_mode": {
    "name": "ipython",
    "version": 3
   },
   "file_extension": ".py",
   "mimetype": "text/x-python",
   "name": "python",
   "nbconvert_exporter": "python",
   "pygments_lexer": "ipython3",
   "version": "3.8.18"
  }
 },
 "nbformat": 4,
 "nbformat_minor": 5
}
